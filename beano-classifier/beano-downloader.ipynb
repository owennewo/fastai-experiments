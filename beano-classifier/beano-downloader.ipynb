{
 "cells": [
  {
   "cell_type": "code",
   "execution_count": 5,
   "metadata": {},
   "outputs": [],
   "source": [
    "%reload_ext autoreload\n",
    "%autoreload 2\n",
    "%matplotlib inline"
   ]
  },
  {
   "cell_type": "code",
   "execution_count": 1,
   "metadata": {},
   "outputs": [],
   "source": [
    "#from imutils import paths\n",
    "import argparse\n",
    "import requests\n",
    "import cv2\n",
    "import os\n",
    "from fastai.widgets import ImageDownloader"
   ]
  },
  {
   "cell_type": "code",
   "execution_count": 3,
   "metadata": {},
   "outputs": [
    {
     "data": {
      "text/plain": [
       "'3.4.2'"
      ]
     },
     "execution_count": 3,
     "metadata": {},
     "output_type": "execute_result"
    }
   ],
   "source": [
    "cv2.__version__"
   ]
  },
  {
   "cell_type": "code",
   "execution_count": 13,
   "metadata": {},
   "outputs": [],
   "source": [
    "characters = ['dennis', 'minnie', 'billy whizz', 'gnasher','plug','danny','walter','calamity james','toots','smithy','wilfred','fatty','banana man', 'eric', 'roger', 'tricky dicky']"
   ]
  },
  {
   "cell_type": "code",
   "execution_count": 8,
   "metadata": {},
   "outputs": [
    {
     "name": "stdout",
     "output_type": "stream",
     "text": [
      "['dennis', 'minnie', 'billy whizz', 'gnasher', 'plug', 'danny', 'walter', 'calamity james', 'toots', 'smithy', 'wilfred', 'fatty', 'banana man', 'eric', 'roger', 'tricky dicky']\n"
     ]
    }
   ],
   "source": [
    "print(searchTerms)"
   ]
  },
  {
   "cell_type": "code",
   "execution_count": 3,
   "metadata": {},
   "outputs": [
    {
     "data": {
      "application/vnd.jupyter.widget-view+json": {
       "model_id": "8c4f52b98bc94542b42c882a785ad754",
       "version_major": 2,
       "version_minor": 0
      },
      "text/plain": [
       "VBox(children=(HBox(children=(Text(value='', placeholder='What images to search for?'), BoundedIntText(value=1…"
      ]
     },
     "metadata": {},
     "output_type": "display_data"
    },
    {
     "data": {
      "text/plain": [
       "<fastai.widgets.image_downloader.ImageDownloader at 0x7f98a914b1d0>"
      ]
     },
     "execution_count": 3,
     "metadata": {},
     "output_type": "execute_result"
    }
   ],
   "source": [
    "ImageDownloader()"
   ]
  },
  {
   "cell_type": "code",
   "execution_count": 14,
   "metadata": {},
   "outputs": [
    {
     "name": "stdout",
     "output_type": "stream",
     "text": [
      "dennis\n",
      "minnie\n",
      "billy whizz\n",
      "gnasher\n",
      "plug\n",
      "danny\n",
      "walter\n",
      "calamity james\n",
      "toots\n",
      "smithy\n",
      "wilfred\n",
      "fatty\n",
      "banana man\n",
      "eric\n",
      "roger\n",
      "tricky dicky\n"
     ]
    }
   ],
   "source": [
    "for character in characters:\n",
    "  try:\n",
    "    print(character)\n",
    "\t\t# try to download the image\n",
    "# \t\tr = requests.get(url, timeout=60)\n",
    " \n",
    "# \t\t# save the image to disk\n",
    "# \t\tp = os.path.sep.join([args[\"output\"], \"{}.jpg\".format(\n",
    "# \t\t\tstr(total).zfill(8))])\n",
    "# \t\tf = open(p, \"wb\")\n",
    "# \t\tf.write(r.content)\n",
    "# \t\tf.close()\n",
    " \n",
    "# \t\t# update the counter\n",
    "# \t\tprint(\"[INFO] downloaded: {}\".format(p))\n",
    "# \t\ttotal += 1\n",
    " \n",
    "\t# handle if any exceptions are thrown during the download process\n",
    "  except:\n",
    "    print(\"[INFO] error downloading {}...skipping\".format(p))"
   ]
  },
  {
   "cell_type": "code",
   "execution_count": null,
   "metadata": {},
   "outputs": [],
   "source": []
  }
 ],
 "metadata": {
  "kernelspec": {
   "display_name": "Python 3",
   "language": "python",
   "name": "python3"
  },
  "language_info": {
   "codemirror_mode": {
    "name": "ipython",
    "version": 3
   },
   "file_extension": ".py",
   "mimetype": "text/x-python",
   "name": "python",
   "nbconvert_exporter": "python",
   "pygments_lexer": "ipython3",
   "version": "3.7.4"
  }
 },
 "nbformat": 4,
 "nbformat_minor": 2
}
